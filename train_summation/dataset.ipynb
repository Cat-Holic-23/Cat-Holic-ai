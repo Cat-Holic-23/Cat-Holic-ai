{
 "cells": [
  {
   "cell_type": "code",
   "execution_count": 37,
   "id": "7ae7e57d",
   "metadata": {},
   "outputs": [
    {
     "name": "stdout",
     "output_type": "stream",
     "text": [
      "전체 데이터 개수: 33410\n",
      "Dataset({\n",
      "    features: ['context', 'question', 'answerA', 'answerB', 'answerC', 'label'],\n",
      "    num_rows: 33410\n",
      "})\n"
     ]
    }
   ],
   "source": [
    "# 라이브러리 import\n",
    "import numpy as np\n",
    "import random\n",
    "from datasets import load_dataset\n",
    "import pandas as pd\n",
    "\n",
    "# 1️⃣ Social IQa 데이터셋 로딩\n",
    "dataset = load_dataset(\"social_i_qa\", split=\"train\")\n",
    "\n",
    "# 데이터셋 크기 확인\n",
    "print(f\"전체 데이터 개수: {len(dataset)}\")\n",
    "\n",
    "print(dataset)\n",
    "\n"
   ]
  },
  {
   "cell_type": "markdown",
   "id": "31f8c648",
   "metadata": {},
   "source": [
    "## 데이터 생성을 위한 분포 설정"
   ]
  },
  {
   "cell_type": "code",
   "execution_count": 38,
   "id": "96b5511c",
   "metadata": {},
   "outputs": [],
   "source": [
    "# 문장 개수 설정 (1~10 지수적 분포)\n",
    "sentence_counts = np.arange(1, 11)\n",
    "sentence_probs = np.exp(0.15 * sentence_counts)\n",
    "sentence_probs /= sentence_probs.sum()  # 합이 1이 되도록 정규화\n",
    "\n",
    "# 정답 비율 설정 (균등 분포)\n",
    "correct_ratios = [0.0, 0.25, 0.5, 0.75, 1.0]"
   ]
  },
  {
   "cell_type": "markdown",
   "id": "370ab85c",
   "metadata": {},
   "source": [
    "## 데이터 생성 함수 정의"
   ]
  },
  {
   "cell_type": "code",
   "execution_count": 48,
   "id": "0e5263c4",
   "metadata": {},
   "outputs": [],
   "source": [
    "def generate_social_iqa_sample(dataset, sentence_counts, sentence_probs, correct_ratios):\n",
    "    num_sentences = np.random.choice(sentence_counts, p=sentence_probs)\n",
    "    correct_ratio = random.choice(correct_ratios)\n",
    "\n",
    "    # 반올림 적용하여 정확한 정답 개수 확보\n",
    "    num_correct = int(round(num_sentences * correct_ratio))\n",
    "    num_wrong = num_sentences - num_correct\n",
    "\n",
    "    sampled_indices = random.sample(range(len(dataset)), num_sentences)\n",
    "    sampled_data = [dataset[i] for i in sampled_indices]\n",
    "\n",
    "    label_to_answer = {1: 'answerA', 2: 'answerB', 3: 'answerC'}\n",
    "    qa_pairs = []\n",
    "\n",
    "    # 정답 생성\n",
    "    for sample in sampled_data[:num_correct]:\n",
    "        correct_label = int(sample['label'])\n",
    "        correct_answer = sample[label_to_answer[correct_label]]\n",
    "        qa_pairs.append({\n",
    "            \"story\": sample[\"context\"],\n",
    "            \"question\": sample[\"question\"],\n",
    "            \"user_selected\": correct_answer,  # 정답 선택\n",
    "            \"correct_answer\": correct_answer\n",
    "        })\n",
    "\n",
    "    # 오답 생성\n",
    "    for sample in sampled_data[num_correct:]:\n",
    "        correct_label = int(sample['label'])\n",
    "        correct_answer = sample[label_to_answer[correct_label]]\n",
    "\n",
    "        wrong_labels = [1, 2, 3]\n",
    "        wrong_labels.remove(correct_label)\n",
    "        wrong_answer_label = random.choice(wrong_labels)\n",
    "        wrong_answer = sample[label_to_answer[wrong_answer_label]]\n",
    "\n",
    "        qa_pairs.append({\n",
    "            \"story\": sample[\"context\"],\n",
    "            \"question\": sample[\"question\"],\n",
    "            \"user_selected\": wrong_answer,  # 오답 선택\n",
    "            \"correct_answer\": correct_answer\n",
    "        })\n",
    "\n",
    "    random.shuffle(qa_pairs)\n",
    "\n",
    "    return {\n",
    "        \"num_sentences\": num_sentences,\n",
    "        \"correct_ratio\": correct_ratio,\n",
    "        \"qa_pairs\": qa_pairs\n",
    "    }"
   ]
  },
  {
   "cell_type": "markdown",
   "id": "59ab9d99",
   "metadata": {},
   "source": [
    "## 데이터 생성 예시 및 결과 확인"
   ]
  },
  {
   "cell_type": "code",
   "execution_count": 49,
   "id": "e2c92952",
   "metadata": {},
   "outputs": [],
   "source": [
    "num_samples_to_generate = 10000  # 생성할 샘플 수\n",
    "\n",
    "# 생성된 샘플을 저장할 리스트\n",
    "generated_samples = []\n",
    "\n",
    "for _ in range(num_samples_to_generate):\n",
    "    sample = generate_social_iqa_sample(\n",
    "        dataset, sentence_counts, sentence_probs, correct_ratios\n",
    "    )\n",
    "    generated_samples.append(sample)\n",
    "\n",
    "# 결과를 DataFrame으로 정리해서 분석해보기\n",
    "df_samples = pd.DataFrame(generated_samples)"
   ]
  },
  {
   "cell_type": "code",
   "execution_count": 52,
   "id": "476690d0",
   "metadata": {},
   "outputs": [
    {
     "name": "stdout",
     "output_type": "stream",
     "text": [
      "📌 전체 정오답 비율:\n",
      "49.48%\n",
      "\n",
      "📌 데이터 갯수별 비율:\n",
      "num_sentences\n",
      "1     0.0456\n",
      "2     0.0525\n",
      "3     0.0603\n",
      "4     0.0743\n",
      "5     0.0819\n",
      "6     0.1008\n",
      "7     0.1135\n",
      "8     0.1390\n",
      "9     0.1547\n",
      "10    0.1774\n",
      "Name: proportion, dtype: float64 \n",
      "\n"
     ]
    }
   ],
   "source": [
    "# 전체 정오답 비율 확인\n",
    "def overall_correctness_ratio(df_samples):\n",
    "    total_correct = sum(\n",
    "        sum(pair[\"user_selected\"] == pair[\"correct_answer\"] for pair in qa)\n",
    "        for qa in df_samples['qa_pairs']\n",
    "    )\n",
    "    total_questions = sum(len(qa) for qa in df_samples['qa_pairs'])\n",
    "    return total_correct / total_questions\n",
    "\n",
    "\n",
    "# 데이터 개수별 비율 확인\n",
    "def sentence_count_ratio(df_samples):\n",
    "    return df_samples['num_sentences'].value_counts(normalize=True).sort_index()\n",
    "\n",
    "# 데이터 개수별 정오답 비율 확인\n",
    "def correctness_ratio_by_sentence_count(df_samples):\n",
    "    results = {}\n",
    "    for count in sorted(df_samples['num_sentences'].unique()):\n",
    "        subset = df_samples[df_samples['num_sentences'] == count]\n",
    "        total_correct = sum(\n",
    "            sum(pair[\"user_selected\"] == pair[\"correct_answer\"] for pair in qa)\n",
    "            for qa in subset['qa_pairs']\n",
    "        )\n",
    "        total_questions = sum(len(qa) for qa in subset['qa_pairs'])\n",
    "        results[count] = total_correct / total_questions\n",
    "    return pd.Series(results)\n",
    "\n",
    "\n",
    "# 정오답 비율별 데이터 개수 확인\n",
    "def sample_count_by_correct_ratio(df_samples):\n",
    "    return df_samples['correct_ratio'].value_counts().sort_index()\n",
    "\n",
    "# 실제 분석 및 출력\n",
    "print(\"📌 전체 정오답 비율:\")\n",
    "print(f\"{overall_correctness_ratio(df_samples):.2%}\\n\")\n",
    "\n",
    "print(\"📌 데이터 갯수별 비율:\")\n",
    "print(sentence_count_ratio(df_samples), \"\\n\")\n"
   ]
  },
  {
   "cell_type": "code",
   "execution_count": null,
   "id": "5b650bd4",
   "metadata": {},
   "outputs": [
    {
     "name": "stdout",
     "output_type": "stream",
     "text": [
      "📌 데이터 갯수별 정오답 비율:\n",
      "1     0.400000\n",
      "2     0.512846\n",
      "3     0.526646\n",
      "4     0.495370\n",
      "5     0.485375\n",
      "6     0.503860\n",
      "7     0.502127\n",
      "8     0.510324\n",
      "9     0.485652\n",
      "10    0.503034\n",
      "dtype: float64 \n",
      "\n",
      "📌 정오답 비율별 데이터 갯수:\n",
      "correct_ratio\n",
      "0.00    1993\n",
      "0.25    2016\n",
      "0.50    1977\n",
      "0.75    2012\n",
      "1.00    2002\n",
      "Name: count, dtype: int64\n"
     ]
    }
   ],
   "source": [
    "print(\"📌 데이터 갯수별 정오답 비율:\")\n",
    "print(correctness_ratio_by_sentence_count(df_samples), \"\\n\")\n",
    "\n",
    "print(\"📌 정오답 비율별 데이터 갯수:\")\n",
    "print(sample_count_by_correct_ratio(df_samples))"
   ]
  },
  {
   "cell_type": "code",
   "execution_count": 51,
   "id": "f87175f5",
   "metadata": {},
   "outputs": [
    {
     "name": "stdout",
     "output_type": "stream",
     "text": [
      "[{'story': 'Believing in their lucky powers, Riley collected a ton of clovers with four leaves.', 'question': 'How would you describe Riley?', 'user_selected': 'lazy', 'correct_answer': 'energetic'}, {'story': \"Kai was scared to sleep in the dark on their own, so Taylor told Kai's parents what was going on.\", 'question': 'How would Taylor feel afterwards?', 'user_selected': 'like a person who was helpful', 'correct_answer': 'like a person who was helpful'}, {'story': 'Sasha started acting just like Kendall after realizing Kendall was getting asked out a lot.', 'question': 'What will happen to Kendall?', 'user_selected': 'help Sasha find a date', 'correct_answer': 'help Sasha find a date'}, {'story': 'Jesse learnt to play a musical instrument after realizing their favorite musician played the same thing.', 'question': 'Why did the musician do this?', 'user_selected': 'profit from their talent', 'correct_answer': 'profit from their talent'}, {'story': 'Skylar slapped Quinn in the face after they got into a big fight.', 'question': 'What will Quinn want to do next?', 'user_selected': 'cry', 'correct_answer': 'cry'}, {'story': 'Sasha was hired to take pictures of a wedding. Sasha took many beautiful pictures.', 'question': 'How would you describe Sasha?', 'user_selected': 'a talented photographer', 'correct_answer': 'a talented photographer'}, {'story': \"Jan put cloth on Addison's hips to measure it for the custom made skirt.\", 'question': 'How would you describe Jan?', 'user_selected': 'someone skilled at making clothes', 'correct_answer': 'someone skilled at making clothes'}, {'story': 'Jordan to Sasha far to get to the place they were going to hike at.', 'question': 'What will Jordan want to do next?', 'user_selected': 'show Sasha around', 'correct_answer': 'enjoy nature'}, {'story': 'Aubrey finally went to bed after winning an argument against her friends.', 'question': 'How would Others feel as a result?', 'user_selected': 'disappointed', 'correct_answer': 'disappointed'}]\n"
     ]
    }
   ],
   "source": [
    "print(df_samples[\"qa_pairs\"][1])"
   ]
  },
  {
   "cell_type": "code",
   "execution_count": null,
   "id": "c7b5b136",
   "metadata": {},
   "outputs": [],
   "source": []
  }
 ],
 "metadata": {
  "kernelspec": {
   "display_name": "cat-holic-ai-QjSoLCUB-py3.12",
   "language": "python",
   "name": "python3"
  },
  "language_info": {
   "codemirror_mode": {
    "name": "ipython",
    "version": 3
   },
   "file_extension": ".py",
   "mimetype": "text/x-python",
   "name": "python",
   "nbconvert_exporter": "python",
   "pygments_lexer": "ipython3",
   "version": "3.12.3"
  }
 },
 "nbformat": 4,
 "nbformat_minor": 5
}
